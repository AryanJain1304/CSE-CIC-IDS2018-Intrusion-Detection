{
 "cells": [
  {
   "cell_type": "code",
   "execution_count": 1,
   "metadata": {
    "_cell_guid": "b1076dfc-b9ad-4769-8c92-a6c4dae69d19",
    "_uuid": "8f2839f25d086af736a60e9eeb907d3b93b6e0e5",
    "execution": {
     "iopub.execute_input": "2025-04-20T07:09:57.563225Z",
     "iopub.status.busy": "2025-04-20T07:09:57.562908Z",
     "iopub.status.idle": "2025-04-20T07:09:57.962209Z",
     "shell.execute_reply": "2025-04-20T07:09:57.961321Z",
     "shell.execute_reply.started": "2025-04-20T07:09:57.563200Z"
    },
    "trusted": true
   },
   "outputs": [
    {
     "name": "stdout",
     "output_type": "stream",
     "text": [
      "/kaggle/input/cse-cic-ids2018-sampled/Sampled Dataset.parquet\n"
     ]
    }
   ],
   "source": [
    "# This Python 3 environment comes with many helpful analytics libraries installed\n",
    "# It is defined by the kaggle/python Docker image: https://github.com/kaggle/docker-python\n",
    "# For example, here's several helpful packages to load\n",
    "\n",
    "import numpy as np # linear algebra\n",
    "import pandas as pd # data processing, CSV file I/O (e.g. pd.read_csv)\n",
    "\n",
    "# Input data files are available in the read-only \"../input/\" directory\n",
    "# For example, running this (by clicking run or pressing Shift+Enter) will list all files under the input directory\n",
    "\n",
    "import os\n",
    "for dirname, _, filenames in os.walk('/kaggle/input'):\n",
    "    for filename in filenames:\n",
    "        print(os.path.join(dirname, filename))\n",
    "\n",
    "# You can write up to 20GB to the current directory (/kaggle/working/) that gets preserved as output when you create a version using \"Save & Run All\" \n",
    "# You can also write temporary files to /kaggle/temp/, but they won't be saved outside of the current session"
   ]
  },
  {
   "cell_type": "code",
   "execution_count": 2,
   "metadata": {
    "execution": {
     "iopub.execute_input": "2025-04-20T07:10:00.375411Z",
     "iopub.status.busy": "2025-04-20T07:10:00.374879Z",
     "iopub.status.idle": "2025-04-20T07:10:02.478408Z",
     "shell.execute_reply": "2025-04-20T07:10:02.477342Z",
     "shell.execute_reply.started": "2025-04-20T07:10:00.375382Z"
    },
    "trusted": true
   },
   "outputs": [],
   "source": [
    "df=pd.read_parquet('/kaggle/input/cse-cic-ids2018-sampled/Sampled Dataset.parquet')"
   ]
  },
  {
   "cell_type": "code",
   "execution_count": 3,
   "metadata": {
    "execution": {
     "iopub.execute_input": "2025-04-20T07:10:03.036320Z",
     "iopub.status.busy": "2025-04-20T07:10:03.035336Z",
     "iopub.status.idle": "2025-04-20T07:10:03.178868Z",
     "shell.execute_reply": "2025-04-20T07:10:03.178019Z",
     "shell.execute_reply.started": "2025-04-20T07:10:03.036284Z"
    },
    "trusted": true
   },
   "outputs": [],
   "source": [
    "df['Label'] = df['Label'].map({'Benign': 0, 'Malicious': 1})"
   ]
  },
  {
   "cell_type": "code",
   "execution_count": 4,
   "metadata": {
    "execution": {
     "iopub.execute_input": "2025-04-20T07:10:05.692912Z",
     "iopub.status.busy": "2025-04-20T07:10:05.692166Z",
     "iopub.status.idle": "2025-04-20T07:10:10.318762Z",
     "shell.execute_reply": "2025-04-20T07:10:10.317676Z",
     "shell.execute_reply.started": "2025-04-20T07:10:05.692878Z"
    },
    "trusted": true
   },
   "outputs": [],
   "source": [
    "from sklearn.preprocessing import MinMaxScaler\n",
    "\n",
    "num_cols=df.columns[:-1]\n",
    "\n",
    "min_max_scaler = MinMaxScaler().fit(df[num_cols])\n",
    "\n",
    "df[num_cols] = min_max_scaler.transform(df[num_cols])"
   ]
  },
  {
   "cell_type": "code",
   "execution_count": 6,
   "metadata": {
    "execution": {
     "iopub.execute_input": "2025-04-20T07:22:19.744147Z",
     "iopub.status.busy": "2025-04-20T07:22:19.743622Z",
     "iopub.status.idle": "2025-04-20T07:26:18.058740Z",
     "shell.execute_reply": "2025-04-20T07:26:18.057698Z",
     "shell.execute_reply.started": "2025-04-20T07:22:19.744114Z"
    },
    "trusted": true
   },
   "outputs": [
    {
     "data": {
      "text/plain": [
       "['train_smote.pkl']"
      ]
     },
     "execution_count": 6,
     "metadata": {},
     "output_type": "execute_result"
    }
   ],
   "source": [
    "from imblearn.over_sampling import SMOTE\n",
    "from sklearn.model_selection import train_test_split\n",
    "import joblib\n",
    "\n",
    "X=df[num_cols]\n",
    "y=df['Label']\n",
    "\n",
    "X_train, X_test, y_train, y_test = train_test_split(X, y, test_size=0.2, random_state=42)\n",
    "\n",
    "# Apply SMOTE\n",
    "smote = SMOTE(sampling_strategy='auto', random_state=42)\n",
    "X_train_smote, y_train_smote = smote.fit_resample(X_train, y_train)\n",
    "\n",
    "joblib.dump((X_train, X_test, y_train, y_test), 'train_test_split.pkl')\n",
    "joblib.dump((X_train_smote, y_train_smote), 'train_smote.pkl')"
   ]
  },
  {
   "cell_type": "code",
   "execution_count": 7,
   "metadata": {
    "execution": {
     "iopub.execute_input": "2025-04-20T07:26:59.486692Z",
     "iopub.status.busy": "2025-04-20T07:26:59.486210Z",
     "iopub.status.idle": "2025-04-20T07:26:59.495196Z",
     "shell.execute_reply": "2025-04-20T07:26:59.493710Z",
     "shell.execute_reply.started": "2025-04-20T07:26:59.486654Z"
    },
    "trusted": true
   },
   "outputs": [
    {
     "data": {
      "text/html": [
       "<a href='train_smote.pkl' target='_blank'>train_smote.pkl</a><br>"
      ],
      "text/plain": [
       "/kaggle/working/train_smote.pkl"
      ]
     },
     "execution_count": 7,
     "metadata": {},
     "output_type": "execute_result"
    }
   ],
   "source": [
    "from IPython.display import FileLink\n",
    "FileLink(r'train_smote.pkl')"
   ]
  },
  {
   "cell_type": "code",
   "execution_count": 8,
   "metadata": {
    "execution": {
     "iopub.execute_input": "2025-04-20T07:27:02.651645Z",
     "iopub.status.busy": "2025-04-20T07:27:02.651188Z",
     "iopub.status.idle": "2025-04-20T07:27:02.658625Z",
     "shell.execute_reply": "2025-04-20T07:27:02.657603Z",
     "shell.execute_reply.started": "2025-04-20T07:27:02.651610Z"
    },
    "trusted": true
   },
   "outputs": [
    {
     "data": {
      "text/html": [
       "<a href='train_test_split.pkl' target='_blank'>train_test_split.pkl</a><br>"
      ],
      "text/plain": [
       "/kaggle/working/train_test_split.pkl"
      ]
     },
     "execution_count": 8,
     "metadata": {},
     "output_type": "execute_result"
    }
   ],
   "source": [
    "from IPython.display import FileLink\n",
    "FileLink(r'train_test_split.pkl')"
   ]
  }
 ],
 "metadata": {
  "kaggle": {
   "accelerator": "none",
   "dataSources": [
    {
     "datasetId": 7182671,
     "sourceId": 11462521,
     "sourceType": "datasetVersion"
    }
   ],
   "dockerImageVersionId": 31011,
   "isGpuEnabled": false,
   "isInternetEnabled": true,
   "language": "python",
   "sourceType": "notebook"
  },
  "kernelspec": {
   "display_name": "Python 3",
   "language": "python",
   "name": "python3"
  },
  "language_info": {
   "codemirror_mode": {
    "name": "ipython",
    "version": 3
   },
   "file_extension": ".py",
   "mimetype": "text/x-python",
   "name": "python",
   "nbconvert_exporter": "python",
   "pygments_lexer": "ipython3",
   "version": "3.11.11"
  }
 },
 "nbformat": 4,
 "nbformat_minor": 4
}
